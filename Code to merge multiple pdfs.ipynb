{
 "cells": [
  {
   "cell_type": "markdown",
   "metadata": {},
   "source": [
    "## Code to merge multiple pdfs\n",
    "#### Things to keep in mind:\n",
    "\n",
    "- Use this file to merge different pdfs into one\n",
    "\n",
    "- further instructions given in the code "
   ]
  },
  {
   "cell_type": "markdown",
   "metadata": {},
   "source": [
    "### Install this library if not installed on the system\n",
    "\n",
    "```!pip install PyPDF2```"
   ]
  },
  {
   "cell_type": "markdown",
   "metadata": {},
   "source": [
    "## Code below"
   ]
  },
  {
   "cell_type": "code",
   "execution_count": 4,
   "metadata": {},
   "outputs": [],
   "source": [
    "from PyPDF2 import PdfFileMerger"
   ]
  },
  {
   "cell_type": "code",
   "execution_count": 5,
   "metadata": {},
   "outputs": [],
   "source": [
    "import os"
   ]
  },
  {
   "cell_type": "code",
   "execution_count": 11,
   "metadata": {},
   "outputs": [
    {
     "name": "stdout",
     "output_type": "stream",
     "text": [
      "Enter path here: D:/\n",
      "Enter Number of files to merge: 2\n",
      "Enter File Name: INTL 1.pdf\n",
      "Enter File Name: INTL 2.pdf\n",
      "files are:\n",
      " ['INTL 1.pdf', 'INTL 2.pdf']\n"
     ]
    }
   ],
   "source": [
    "path = input('Enter path here: ')\n",
    "n = int(input('Enter Number of files to merge: '))\n",
    "pdf_files = []\n",
    "\n",
    "for i in range(0,n):\n",
    "    files = input('Enter File Name: ')\n",
    "    pdf_files.append(files)\n",
    "    \n",
    "print('files are:\\n',pdf_files)"
   ]
  },
  {
   "cell_type": "code",
   "execution_count": 12,
   "metadata": {},
   "outputs": [],
   "source": [
    "merger = PdfFileMerger(strict=True)\n",
    "\n",
    "#here 'files' is a variable in pdf_files\n",
    "for files in pdf_files:\n",
    "    #append function adds both files into one\n",
    "    merger.append(path+files)\n",
    "\n",
    "#to cut the code if the pdf files dont exist at the path given\n",
    "#so that empty merged.pdf don't generate\n",
    "\n",
    "if not os.path.exists(path+'merged.pdf'): \n",
    "    merger.write(path+'merged.pdf')\n",
    "    \n",
    "merger.close() #used to deletd temp files created"
   ]
  }
 ],
 "metadata": {
  "kernelspec": {
   "display_name": "Python 3",
   "language": "python",
   "name": "python3"
  },
  "language_info": {
   "codemirror_mode": {
    "name": "ipython",
    "version": 3
   },
   "file_extension": ".py",
   "mimetype": "text/x-python",
   "name": "python",
   "nbconvert_exporter": "python",
   "pygments_lexer": "ipython3",
   "version": "3.7.1"
  }
 },
 "nbformat": 4,
 "nbformat_minor": 2
}
